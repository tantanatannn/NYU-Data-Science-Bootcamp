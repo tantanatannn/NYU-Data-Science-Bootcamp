{
 "cells": [
  {
   "cell_type": "markdown",
   "id": "cef24057",
   "metadata": {},
   "source": [
    "# Data Science Bootcamp Week 1\n",
    "## Take Home Exercises\n",
    "**Q1. Write a program that takes a word as an input and prints the number of vowels in the word.**"
   ]
  },
  {
   "cell_type": "code",
   "execution_count": 1,
   "id": "857385dd-ea78-4f31-be4f-3525c03180ab",
   "metadata": {},
   "outputs": [
    {
     "name": "stdin",
     "output_type": "stream",
     "text": [
      "enter a word: data science bootcamp\n"
     ]
    },
    {
     "name": "stdout",
     "output_type": "stream",
     "text": [
      "number of vowels: 8\n"
     ]
    }
   ],
   "source": [
    "word = input(\"enter a word:\")\n",
    "# defining vowels\n",
    "vowels = \"aeiouAEIOU\"\n",
    "# counting vowels\n",
    "count = 0\n",
    "for char in word:\n",
    "    if char in vowels:\n",
    "        count += 1\n",
    "# printing the number of vowels\n",
    "print(\"number of vowels:\", count)"
   ]
  },
  {
   "cell_type": "markdown",
   "id": "4762708b",
   "metadata": {},
   "source": [
    "**Q2. Iterate through the following list of animals and print each one in capital letters: animals = ['tiger', 'elephant', 'monkey', 'zebra', 'panther'].**"
   ]
  },
  {
   "cell_type": "code",
   "execution_count": 2,
   "id": "3407c70d",
   "metadata": {},
   "outputs": [
    {
     "name": "stdout",
     "output_type": "stream",
     "text": [
      "TIGER\n",
      "ELEPHANT\n",
      "MONKEY\n",
      "ZEBRA\n",
      "PANTHER\n"
     ]
    }
   ],
   "source": [
    "animals = ['tiger', 'elephant', 'monkey', 'zebra', 'panther']\n",
    "for animal in animals:\n",
    "    print(animal.upper())"
   ]
  },
  {
   "cell_type": "markdown",
   "id": "0f804499",
   "metadata": {},
   "source": [
    "**Q3. Write a program that iterates from 1 to 20, printing each number and whether it's odd or even.**"
   ]
  },
  {
   "cell_type": "code",
   "execution_count": 3,
   "id": "42a9baa7",
   "metadata": {},
   "outputs": [
    {
     "name": "stdout",
     "output_type": "stream",
     "text": [
      "1 -> odd\n",
      "2 -> even\n",
      "3 -> odd\n",
      "4 -> even\n",
      "5 -> odd\n",
      "6 -> even\n",
      "7 -> odd\n",
      "8 -> even\n",
      "9 -> odd\n",
      "10 -> even\n",
      "11 -> odd\n",
      "12 -> even\n",
      "13 -> odd\n",
      "14 -> even\n",
      "15 -> odd\n",
      "16 -> even\n",
      "17 -> odd\n",
      "18 -> even\n",
      "19 -> odd\n",
      "20 -> even\n"
     ]
    }
   ],
   "source": [
    "for n in range(1, 21):\n",
    "    type = \"even\" if n % 2 == 0 else \"odd\"\n",
    "    print(f\"{n} -> {type}\")"
   ]
  },
  {
   "cell_type": "markdown",
   "id": "0e2a1994",
   "metadata": {},
   "source": [
    "**Q4. Write a program to check if a string is a palindrome or not.**"
   ]
  },
  {
   "cell_type": "code",
   "execution_count": 4,
   "id": "fbbb385f-8cc0-41a9-a709-8093309928bd",
   "metadata": {},
   "outputs": [
    {
     "name": "stdin",
     "output_type": "stream",
     "text": [
      "enter a word: kayak\n"
     ]
    },
    {
     "name": "stdout",
     "output_type": "stream",
     "text": [
      "palindrome\n"
     ]
    }
   ],
   "source": [
    "word = input(\"enter a word:\")\n",
    "# reversing the word\n",
    "reversed_word = word[::-1]\n",
    "if word == reversed_word:\n",
    "    print(\"palindrome\")\n",
    "else:\n",
    "    print(\"not a palindrome\")"
   ]
  },
  {
   "cell_type": "markdown",
   "id": "b9e5c1e9",
   "metadata": {},
   "source": [
    "**Q5. Write a function sum_of_integers(a, b) that takes two integers as input from the user and returns their sum. (optional)**"
   ]
  },
  {
   "cell_type": "code",
   "execution_count": 5,
   "id": "8e5d0fc7-77ae-4c57-9f4a-2cf441e2aa11",
   "metadata": {},
   "outputs": [
    {
     "name": "stdin",
     "output_type": "stream",
     "text": [
      "enter the first integer: 4\n",
      "enter the second integer: 6\n"
     ]
    },
    {
     "name": "stdout",
     "output_type": "stream",
     "text": [
      "sum is: 10\n"
     ]
    }
   ],
   "source": [
    "# defining function\n",
    "def sum_of_integers(a, b):\n",
    "    return a + b\n",
    "num1 = int(input(\"enter the first integer:\"))\n",
    "num2 = int(input(\"enter the second integer:\"))\n",
    "# calling the function\n",
    "result = sum_of_integers(num1, num2)\n",
    "print(\"sum is:\", result)"
   ]
  },
  {
   "cell_type": "markdown",
   "id": "bab0a7b7",
   "metadata": {},
   "source": [
    "## Additional Challenge"
   ]
  },
  {
   "cell_type": "code",
   "execution_count": 6,
   "id": "c65d5816",
   "metadata": {},
   "outputs": [],
   "source": [
    "books = [\n",
    "    {\n",
    "        \"title\": \"The Great Gatsby\",\n",
    "        \"author\": \"F. Scott Fitzgerald\",\n",
    "        \"genre\": \"Fiction\",\n",
    "        \"rating\": 4.2\n",
    "    },\n",
    "    {\n",
    "        \"title\": \"To Kill a Mockingbird\",\n",
    "        \"author\": \"Harper Lee\",\n",
    "        \"genre\": \"Classic\",\n",
    "        \"rating\": 4.5\n",
    "    },\n",
    "    {\n",
    "        \"title\": \"1984\",\n",
    "        \"author\": \"George Orwell\",\n",
    "        \"genre\": \"Dystopian\",\n",
    "        \"rating\": 4.8\n",
    "    },\n",
    "    {\n",
    "        \"title\": \"Pride and Prejudice\",\n",
    "        \"author\": \"Jane Austen\",\n",
    "        \"genre\": \"Romance\",\n",
    "        \"rating\": 4.7\n",
    "    },\n",
    "    {\n",
    "        \"title\": \"Harry Potter and the Sorcerer's Stone\",\n",
    "        \"author\": \"J.K. Rowling\",\n",
    "        \"genre\": \"Fantasy\",\n",
    "        \"rating\": 4.9\n",
    "    },\n",
    "    {\n",
    "        \"title\": \"The Catcher in the Rye\",\n",
    "        \"author\": \"J.D. Salinger\",\n",
    "        \"genre\": \"Coming-of-age\",\n",
    "        \"rating\": 4.1\n",
    "    }\n",
    "]"
   ]
  },
  {
   "cell_type": "markdown",
   "id": "2fbb4bbb",
   "metadata": {},
   "source": [
    "**Q1. Checking Book Ratings: Write a function check_rating(book) that takes a book dictionary and returns true if the rating is greater than 4.5, and false otherwise. Additionally, modify the function to return 'low' if the rating is less than or equal to 4.0, 'medium' if it's greater than 4.0 but less than or equal to 4.5, and 'high' if it's greater than 4.5.**"
   ]
  },
  {
   "cell_type": "code",
   "execution_count": 7,
   "id": "c4d01aa7-bfd5-4a25-a41f-c2739a0ee7eb",
   "metadata": {},
   "outputs": [
    {
     "name": "stdout",
     "output_type": "stream",
     "text": [
      "The Great Gatsby: false, medium\n",
      "To Kill a Mockingbird: false, medium\n",
      "1984: true, high\n",
      "Pride and Prejudice: true, high\n",
      "Harry Potter and the Sorcerer's Stone: true, high\n",
      "The Catcher in the Rye: false, medium\n"
     ]
    }
   ],
   "source": [
    "def check_rating(book):\n",
    "    rating = book[\"rating\"]\n",
    "    is_high = rating > 4.5\n",
    "    if rating <= 4.0:\n",
    "        level = \"low\"\n",
    "    elif rating <= 4.5:\n",
    "        level = \"medium\"\n",
    "    else:\n",
    "        level = \"high\"\n",
    "    return f\"{str(is_high).lower()}, {level}\"\n",
    "for b in books:\n",
    "    print(f\"{b['title']}: {check_rating(b)}\")"
   ]
  },
  {
   "cell_type": "markdown",
   "id": "6b44b38e",
   "metadata": {},
   "source": [
    "**Q2. Average Rating by Genre: Write a function average_rating_by_genre(books, genre) that accepts the list of books and a genre, and returns the average rating for that genre. If the genre does not exist in the list, return an appropriate message.**\n",
    "\r\n"
   ]
  },
  {
   "cell_type": "code",
   "execution_count": 8,
   "id": "42a1c06e-6554-4b1a-a44f-cc0445292fca",
   "metadata": {},
   "outputs": [
    {
     "name": "stdin",
     "output_type": "stream",
     "text": [
      "enter a genre to find its average rating: romance\n"
     ]
    },
    {
     "name": "stdout",
     "output_type": "stream",
     "text": [
      "average rating: 4.7\n"
     ]
    }
   ],
   "source": [
    "def average_rating_by_genre(books, genre):\n",
    "    genre_books = [b[\"rating\"] for b in books if b[\"genre\"].lower() == genre.lower()]\n",
    "    if not genre_books:\n",
    "        return f\"no books found for genre '{genre}'\"\n",
    "    return sum(genre_books) / len(genre_books)\n",
    "genre_input = input(\"enter a genre to find its average rating:\")\n",
    "print(\"average rating:\", average_rating_by_genre(books, genre_input))"
   ]
  },
  {
   "cell_type": "markdown",
   "id": "4edae20c",
   "metadata": {},
   "source": [
    "**Q3. Books by Author: Write a function books_by_author(books, author) that accepts the book list and an author's name, and returns a list of all the books written by that author. If the author does not exist, raise a custom error.**"
   ]
  },
  {
   "cell_type": "code",
   "execution_count": 9,
   "id": "585ba168-c049-4ecd-9b1b-28723823957b",
   "metadata": {},
   "outputs": [
    {
     "name": "stdin",
     "output_type": "stream",
     "text": [
      "enter an author name to see their books: george orwell\n"
     ]
    },
    {
     "name": "stdout",
     "output_type": "stream",
     "text": [
      "books by author: ['1984']\n"
     ]
    }
   ],
   "source": [
    "class AuthorNotFoundError(Exception):\n",
    "    pass\n",
    "def books_by_author(books, author):\n",
    "    author_books = [b[\"title\"] for b in books if b[\"author\"].lower() == author.lower()]\n",
    "    if not author_books:\n",
    "        raise AuthorNotFoundError(f\"no books found by author '{author}'\")\n",
    "    return author_books\n",
    "author_input = input(\"enter an author name to see their books:\")\n",
    "try:\n",
    "    print(\"books by author:\", books_by_author(books, author_input))\n",
    "except AuthorNotFoundError as e:\n",
    "    print(e)"
   ]
  }
 ],
 "metadata": {
  "kernelspec": {
   "display_name": "Python 3 (ipykernel)",
   "language": "python",
   "name": "python3"
  },
  "language_info": {
   "codemirror_mode": {
    "name": "ipython",
    "version": 3
   },
   "file_extension": ".py",
   "mimetype": "text/x-python",
   "name": "python",
   "nbconvert_exporter": "python",
   "pygments_lexer": "ipython3",
   "version": "3.12.4"
  }
 },
 "nbformat": 4,
 "nbformat_minor": 5
}
